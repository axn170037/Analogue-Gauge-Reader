{
 "cells": [
  {
   "cell_type": "code",
   "execution_count": 1,
   "metadata": {},
   "outputs": [],
   "source": [
    "import matplotlib.pylab as plt\n",
    "import cv2\n",
    "import numpy as np\n",
    "import os\n",
    "import pandas as pd\n",
    "os.chdir(r'C:\\Users\\abhijeetnayak.DESKTOP-HNHRA04\\Downloads\\opencv-master\\opencv-master\\samples\\data\\analogueGaugereader')"
   ]
  },
  {
   "cell_type": "code",
   "execution_count": 2,
   "metadata": {},
   "outputs": [],
   "source": [
    "def avg_circles(circles, b):\n",
    "    avg_x=0\n",
    "    avg_y=0\n",
    "    avg_r=0\n",
    "    for i in range(b):\n",
    "        #optional - average for multiple circles (can happen when a gauge is at a slight angle)\n",
    "        avg_x = avg_x + circles[0][i][0]\n",
    "        avg_y = avg_y + circles[0][i][1]\n",
    "        avg_r = avg_r + circles[0][i][2]\n",
    "    avg_x = int(avg_x/(b))\n",
    "    avg_y = int(avg_y/(b))\n",
    "    avg_r = int(avg_r/(b))\n",
    "    return avg_x, avg_y, avg_r\n",
    "\n",
    "def dist_2_pts(x1, y1, x2, y2):\n",
    "    #print np.sqrt((x2-x1)^2+(y2-y1)^2)\n",
    "    return np.sqrt((x2 - x1)**2 + (y2 - y1)**2)"
   ]
  },
  {
   "cell_type": "code",
   "execution_count": 3,
   "metadata": {},
   "outputs": [],
   "source": [
    "img= cv2.imread('gauge-4.png')\n",
    "output= img.copy()\n",
    "output1= img.copy()\n",
    "output2= img.copy()\n",
    "output3= img.copy()\n",
    "output4= img.copy()\n",
    "output5= img.copy()\n",
    "output6= img.copy()\n",
    "\n",
    "\n",
    "cv2.imshow('image',img)\n",
    "cv2.waitKey(0)\n",
    "cv2.destroyAllWindows()\n",
    "height, width= img.shape[:2]\n",
    "gray= cv2.cvtColor(img, cv2.COLOR_BGR2GRAY) #Convert to gray\n",
    "\n",
    "#canny= cv2.Canny(gray, 100, 200)\n",
    "\n",
    "#cv2.imshow('output', gray)\n",
    "#cv2.waitKey(0)\n",
    "#cv2.destroyAllWindows()"
   ]
  },
  {
   "cell_type": "code",
   "execution_count": 4,
   "metadata": {},
   "outputs": [],
   "source": [
    "min_value = 0 #usually zero\n",
    "max_value = 80\n",
    "#input('Max value: ') #maximum reading of the gauge"
   ]
  },
  {
   "cell_type": "code",
   "execution_count": 5,
   "metadata": {},
   "outputs": [
    {
     "data": {
      "text/plain": [
       "array([[[249.5, 251.5, 246.1],\n",
       "        [236.5, 233.5, 243.9],\n",
       "        [264.5, 233.5, 247.2],\n",
       "        [265.5, 263.5, 243.9],\n",
       "        [229.5, 260.5, 227.4],\n",
       "        [233.5, 281.5, 213.1],\n",
       "        [215.5, 226.5, 204.3],\n",
       "        [274.5, 215.5, 206.5],\n",
       "        [254.5, 282.5, 215.3],\n",
       "        [292.5, 236.5, 205.4],\n",
       "        [249.5, 213.5, 210.9],\n",
       "        [285.5, 256.5, 212. ],\n",
       "        [207.5, 264.5, 205.4],\n",
       "        [281.5, 276.5, 205.4]]], dtype=float32)"
      ]
     },
     "execution_count": 5,
     "metadata": {},
     "output_type": "execute_result"
    }
   ],
   "source": [
    "#Using Hough cirlces to find the cirlces in the image\n",
    "#detect circles\n",
    "#restricting the search from 35-48% of the possible radii gives fairly good results across different samples.  Remember that\n",
    "#these are pixel values which correspond to the possible radii search range.\n",
    "\n",
    "circle_img= cv2.HoughCircles(gray, cv2.HOUGH_GRADIENT,1, 20, np.array([]), 100, 50, int(height*0.35), int(height*0.50))\n",
    "a, b, c = circle_img.shape\n",
    "circle_img"
   ]
  },
  {
   "cell_type": "code",
   "execution_count": 6,
   "metadata": {},
   "outputs": [
    {
     "data": {
      "text/plain": [
       "(1, 14, 3)"
      ]
     },
     "execution_count": 6,
     "metadata": {},
     "output_type": "execute_result"
    }
   ],
   "source": [
    "a,b,c = circle_img.shape\n",
    "a,b,c"
   ]
  },
  {
   "cell_type": "code",
   "execution_count": 7,
   "metadata": {},
   "outputs": [
    {
     "name": "stdout",
     "output_type": "stream",
     "text": [
      "249.5 251.5 246.1\n",
      "236.5 233.5 243.9\n",
      "264.5 233.5 247.2\n",
      "265.5 263.5 243.9\n",
      "229.5 260.5 227.4\n",
      "233.5 281.5 213.1\n",
      "215.5 226.5 204.3\n",
      "274.5 215.5 206.5\n",
      "254.5 282.5 215.3\n",
      "292.5 236.5 205.4\n",
      "249.5 213.5 210.9\n",
      "285.5 256.5 212.0\n",
      "207.5 264.5 205.4\n",
      "281.5 276.5 205.4\n"
     ]
    }
   ],
   "source": [
    "for (x,y,r) in circle_img[0,:]:\n",
    "    cv2.circle(output2, (x,y), r, (0,255,0), 3)\n",
    "    cv2.circle(output2, (x,y), 2, (0,255,0), 3)\n",
    "    print(x,y,r)\n",
    "\n",
    "\n",
    "cv2.imshow('output0', output2)\n",
    "cv2.waitKey(0)\n",
    "cv2.destroyAllWindows()"
   ]
  },
  {
   "cell_type": "code",
   "execution_count": 8,
   "metadata": {},
   "outputs": [],
   "source": [
    "#Averaging out nearby circles incase \n",
    "x,y,r = avg_circles(circle_img, b)\n",
    "cv2.circle(output3, (x,y), r, (0,255,0), 3)\n",
    "cv2.circle(output3, (x,y), 2, (0,255,0), 3)\n",
    "\n",
    "cv2.imshow('output', output3)\n",
    "cv2.waitKey(0)\n",
    "cv2.destroyAllWindows()"
   ]
  },
  {
   "cell_type": "code",
   "execution_count": 9,
   "metadata": {},
   "outputs": [
    {
     "data": {
      "text/plain": [
       "(252, 249, 220)"
      ]
     },
     "execution_count": 9,
     "metadata": {},
     "output_type": "execute_result"
    }
   ],
   "source": [
    "x,y,r"
   ]
  },
  {
   "cell_type": "code",
   "execution_count": 10,
   "metadata": {},
   "outputs": [],
   "source": [
    "separation= 10 #in degrees\n",
    "interval = int(360/separation)\n",
    "p1 = np.zeros((interval,2))  #set empty arrays\n",
    "p2 = np.zeros((interval,2))\n",
    "p_text = np.zeros((interval,2))    \n",
    "\n",
    "for i in range(0,interval):\n",
    "    for j in range(0,2):\n",
    "        if (j%2==0):\n",
    "            p1[i][j] = x + 0.9 * r * np.cos(separation * i * np.pi / 180) #point for lines\n",
    "        else:\n",
    "            p1[i][j] = y + 0.9 * r * np.sin(separation * i * np.pi / 180)\n",
    "\n",
    "text_offset_x = 10\n",
    "text_offset_y = 5\n",
    "\n",
    "for i in range(0, interval):\n",
    "    for j in range(0, 2):\n",
    "        if (j % 2 == 0):\n",
    "            p2[i][j] = x + r * np.cos(separation * i * np.pi / 180)\n",
    "            p_text[i][j] = x - text_offset_x + 1.2 * r * np.cos((separation) * (i+9) * np.pi / 180) #point for text labels, i+9 rotates the labels by 90 degrees\n",
    "        else:\n",
    "            p2[i][j] = y + r * np.sin(separation * i * np.pi/ 180)\n",
    "            p_text[i][j] = y + text_offset_y + 1.2* r * np.sin((separation) * (i+9) * np.pi / 180)  # point for text labels, i+9 rotates the labels by 90 degrees\n",
    "\n",
    "#add the lines and labels to the image\n",
    "for i in range(0,interval):\n",
    "    cv2.line(output3, (int(p1[i][0]), int(p1[i][1])), (int(p2[i][0]), int(p2[i][1])),(0, 255, 0), 2)\n",
    "    cv2.putText(output3, '%s' %(int(i*separation)), (int(p_text[i][0]), int(p_text[i][1])), cv2.FONT_HERSHEY_SIMPLEX, 0.3,(0,0,0),1,cv2.LINE_AA)\n",
    "\n",
    "\n",
    "cv2.imshow('output',output3)\n",
    "cv2.waitKey(0)\n",
    "cv2.destroyAllWindows()\n",
    "#cv2.imwrite('gauge-%s-calibration.%s' % (gauge_number, file_type), img)\n",
    "\n",
    "    "
   ]
  },
  {
   "cell_type": "code",
   "execution_count": 11,
   "metadata": {},
   "outputs": [],
   "source": [
    "separation= 10 #in degrees\n",
    "interval = int(360/separation)\n",
    "p3 = np.zeros((interval,2))  #set empty arrays\n",
    "p4 = np.zeros((interval,2))\n",
    "\n",
    "for i in range(0,interval):\n",
    "    for j in range(0,2):\n",
    "        if (j%2==0):\n",
    "            p3[i][j] = x + 0.8 * r * np.cos(separation * i * np.pi / 180) #point for lines\n",
    "        else:\n",
    "            p3[i][j] = y + 0.8 * r * np.sin(separation * i * np.pi / 180)\n",
    "\n",
    "\n",
    "region_of_interest_vertices= p3"
   ]
  },
  {
   "cell_type": "code",
   "execution_count": 12,
   "metadata": {},
   "outputs": [],
   "source": [
    "def region_of_interest(img, vertices):\n",
    "    mask= np.zeros_like(img)\n",
    "    match_mask_color= 255\n",
    "    cv2.fillPoly(mask, vertices, match_mask_color)\n",
    "    masked_image= cv2.bitwise_and(img, mask)\n",
    "    return masked_image\n"
   ]
  },
  {
   "cell_type": "code",
   "execution_count": 13,
   "metadata": {},
   "outputs": [],
   "source": [
    "canny= cv2.Canny(gray, 200, 20)\n",
    "region_of_interest_vertices= p3\n",
    "cropped_image= region_of_interest(canny, np.array([region_of_interest_vertices], np.int32))\n",
    "cv2.imshow('cropped', cropped_image)\n",
    "cv2.waitKey(0)\n",
    "cv2.destroyAllWindows()\n"
   ]
  },
  {
   "cell_type": "code",
   "execution_count": 26,
   "metadata": {},
   "outputs": [],
   "source": [
    "contours, heirarchy= cv2.findContours(cropped_image, cv2.RETR_EXTERNAL, cv2.CHAIN_APPROX_NONE)\n",
    "int_cnt= []\n",
    "for cnt in contours:\n",
    "    area = cv2.contourArea(cnt)\n",
    "    if area<15:\n",
    "        cv2.drawContours(output3, cnt, -1, (255,0,0), 3)\n",
    "        int_cnt.append(cnt) \n",
    "cv2.imshow('output', output3)\n",
    "cv2.waitKey(0)\n",
    "cv2.destroyAllWindows()"
   ]
  },
  {
   "cell_type": "code",
   "execution_count": 15,
   "metadata": {},
   "outputs": [],
   "source": [
    "frth_quad_index=[]\n",
    "thrd_quad_index=[]\n",
    "reference_zero_angle= 35\n",
    "reference_end_angle= 330\n",
    "min_angle=90\n",
    "max_angle=270"
   ]
  },
  {
   "cell_type": "code",
   "execution_count": 16,
   "metadata": {},
   "outputs": [
    {
     "name": "stdout",
     "output_type": "stream",
     "text": [
      "Zero reading corresponds to 53.679371703769824\n",
      "End reading corresponds to 326.4065525839725\n"
     ]
    }
   ],
   "source": [
    "for i in range(len(int_cnt)):\n",
    "    a= int_cnt[i]\n",
    "    a= a.reshape(len(a),2)\n",
    "    a= pd.DataFrame(a)        \n",
    "    x1= a.iloc[:,0].mean()\n",
    "    y1= a.iloc[:,1].mean()\n",
    "    \n",
    "    xlen= x1-x\n",
    "    ylen= y-y1\n",
    "\n",
    "    #Taking arc-tan of ylen/xlen to find the angle\n",
    "    #res= np.arctan(np.divide(float(ylen), float(xlen)))\n",
    "    #res= np.rad2deg(res)\n",
    "\n",
    "    if xlen<0 and ylen<0:\n",
    "        res= np.arctan(np.divide(float(abs(ylen)), float(abs(xlen))))\n",
    "        res= np.rad2deg(res)\n",
    "        final_start_angle= 90-res\n",
    "        #print(i , final_angle)\n",
    "        frth_quad_index.append(i)\n",
    "        if final_start_angle> reference_zero_angle:\n",
    "            if final_start_angle<min_angle:\n",
    "                min_angle= final_start_angle\n",
    "        \n",
    "    elif xlen>0 and ylen<0:\n",
    "        res= np.arctan(np.divide(float(abs(ylen)), float(abs(xlen))))\n",
    "        res= np.rad2deg(res)\n",
    "        final_end_angle= 270+res\n",
    "        thrd_quad_index.append(i)\n",
    "        #print(i , res)\n",
    "        if final_end_angle<reference_end_angle:\n",
    "            if final_end_angle>max_angle:\n",
    "                max_angle= final_end_angle\n",
    "                \n",
    "print(f'Zero reading corresponds to {min_angle}')\n",
    "print(f'End reading corresponds to {max_angle}')"
   ]
  },
  {
   "cell_type": "code",
   "execution_count": 17,
   "metadata": {},
   "outputs": [],
   "source": [
    "#Trial and error to see which threshold function performs best \n",
    "thresh= 175\n",
    "maxValue= 255\n",
    "\n",
    "th, dst2 = cv2.threshold(gray, thresh, maxValue, cv2.THRESH_BINARY_INV);\n",
    "#dst2= cv2.Canny(dst2,50, 150)\n",
    "# for testing purposes, found cv2.THRESH_BINARY_INV to perform the best\n",
    "# th, dst1 = cv2.threshold(gray2, thresh, maxValue, cv2.THRESH_BINARY);\n",
    "# th, dst2 = cv2.threshold(gray2, thresh, maxValue, cv2.THRESH_BINARY_INV);\n",
    "# th, dst3 = cv2.threshold(gray2, thresh, maxValue, cv2.THRESH_TRUNC);\n",
    "# th, dst4 = cv2.threshold(gray2, thresh, maxValue, cv2.THRESH_TOZERO);\n",
    "# th, dst5 = cv2.threshold(gray2, thresh, maxValue, cv2.THRESH_TOZERO_INV);\n",
    "# cv2.imwrite('gauge-%s-dst1.%s' % (gauge_number, file_type), dst1)\n",
    "# cv2.imwrite('gauge-%s-dst2.%s' % (gauge_number, file_type), dst2)\n",
    "# cv2.imwrite('gauge-%s-dst3.%s' % (gauge_number, file_type), dst3)\n",
    "# cv2.imwrite('gauge-%s-dst4.%s' % (gauge_number, file_type), dst4)\n",
    "# cv2.imwrite('gauge-%s-dst5.%s' % (gauge_number, file_type), dst5)\n",
    "\n",
    "cv2.imshow('Window',dst2)\n",
    "cv2.waitKey(0)\n",
    "cv2.destroyAllWindows()"
   ]
  },
  {
   "cell_type": "code",
   "execution_count": 18,
   "metadata": {},
   "outputs": [],
   "source": [
    "minLineLength = 10\n",
    "maxlineGap   = 0\n",
    "\n",
    "lines = cv2.HoughLinesP(image=dst2, rho=3, theta=np.pi / 180, threshold=100,minLineLength=minLineLength, maxLineGap=0) "
   ]
  },
  {
   "cell_type": "code",
   "execution_count": 19,
   "metadata": {},
   "outputs": [],
   "source": [
    "#Visualize the lines\n",
    "for line in lines:\n",
    "    x1, x2, y1, y2= line[0]\n",
    "    cv2.line(output1, (x1, y1), (x2, y2), (0,255,0), 2)\n",
    "    \n",
    "cv2.imshow('Output', output1)\n",
    "cv2.waitKey(0)\n",
    "cv2.destroyAllWindows()"
   ]
  },
  {
   "cell_type": "code",
   "execution_count": 20,
   "metadata": {},
   "outputs": [],
   "source": [
    "final_line_list = []\n",
    "#print \"radius: %s\" %r\n",
    "\n",
    "diff1LowerBound = 0.15 #diff1LowerBound and diff1UpperBound determine how close the line should be from the center\n",
    "diff1UpperBound = 0.35\n",
    "diff2LowerBound = 0.5 #diff2LowerBound and diff2UpperBound determine how close the other point of the line should be to the outside of the gauge\n",
    "diff2UpperBound = 1.0\n",
    "for i in range(0, len(lines)):\n",
    "    for x1, y1, x2, y2 in lines[i]:\n",
    "        diff1 = dist_2_pts(x, y, x1, y1)  # x, y is center of circle\n",
    "        diff2 = dist_2_pts(x, y, x2, y2)  # x, y is center of circle\n",
    "        #set diff1 to be the smaller (closest to the center) of the two), makes the math easier\n",
    "        if (diff1 > diff2):\n",
    "            temp = diff1\n",
    "            diff1 = diff2\n",
    "            diff2 = temp\n",
    "        # check if line is within an acceptable range\n",
    "        if (((diff1<diff1UpperBound*r) and (diff1>diff1LowerBound*r) and (diff2<diff2UpperBound*r)) and (diff2>diff2LowerBound*r)):\n",
    "            line_length = dist_2_pts(x1, y1, x2, y2)\n",
    "            # add to final list\n",
    "            final_line_list.append([x1, y1, x2, y2])\n",
    "            \n",
    "x1 = final_line_list[0][0]\n",
    "y1 = final_line_list[0][1]\n",
    "x2 = final_line_list[0][2]\n",
    "y2 = final_line_list[0][3]\n",
    "cv2.line(output6, (x1, y1), (x2, y2), (0, 255, 0), 2)\n",
    "\n",
    "cv2.imshow('Output', output6)\n",
    "cv2.waitKey(0)\n",
    "cv2.destroyAllWindows()            "
   ]
  },
  {
   "cell_type": "code",
   "execution_count": 21,
   "metadata": {},
   "outputs": [
    {
     "data": {
      "text/plain": [
       "[[154, 171, 200, 213]]"
      ]
     },
     "execution_count": 21,
     "metadata": {},
     "output_type": "execute_result"
    }
   ],
   "source": [
    "final_line_list"
   ]
  },
  {
   "cell_type": "code",
   "execution_count": 22,
   "metadata": {},
   "outputs": [
    {
     "data": {
      "text/plain": [
       "128.51692630710278"
      ]
     },
     "execution_count": 22,
     "metadata": {},
     "output_type": "execute_result"
    }
   ],
   "source": [
    "dist_pt0 = dist_2_pts(x,y,x1,y1)\n",
    "dist_pt1 = dist_2_pts(x,y,x2,y2)\n",
    "\n",
    "if (dist_pt0 > dist_pt1):\n",
    "    xlen= x1-x\n",
    "    ylen= y-y1\n",
    "else:\n",
    "    xlen= x2-x\n",
    "    ylen= y-y2\n",
    "    \n",
    "#Taking arc-tan of ylen/xlen to find the angle\n",
    "res= np.arctan(np.divide(float(abs(ylen)), float(abs(xlen))))\n",
    "res= np.rad2deg(res)\n",
    "\n",
    "if xlen<0 and ylen>0:                 #Quadrant 1\n",
    "    final_angle= res+90\n",
    "if xlen>0 and ylen>0:                 #Quadrant 2\n",
    "    final_angle= 270-res\n",
    "if xlen>0 and ylen<0:                 #Quadrant 3\n",
    "    final_angle= 270+res\n",
    "if xlen<0 and ylen<0:                 #Quadrant 4\n",
    "    final_angle= 90-res\n",
    "    \n",
    "final_angle"
   ]
  },
  {
   "cell_type": "code",
   "execution_count": 24,
   "metadata": {},
   "outputs": [
    {
     "name": "stdout",
     "output_type": "stream",
     "text": [
      "Reading of the Gauge is 21.952356743263046\n"
     ]
    }
   ],
   "source": [
    "#Converting final angle to gauge reading \n",
    "import math\n",
    "\n",
    "old_min = float(min_angle)\n",
    "old_max = float(max_angle)\n",
    "\n",
    "new_min = float(min_value)\n",
    "new_max = float(max_value)\n",
    "\n",
    "old_value = final_angle\n",
    "\n",
    "old_range = (old_max - old_min)\n",
    "new_range = (new_max - new_min)\n",
    "new_value = (((old_value - old_min) * new_range) / old_range) + new_min\n",
    "print(f\"Reading of the Gauge is {new_value}\")\n",
    "\n",
    "cv2.rectangle(output6, (x-(r+10), y-(r+10)), (x+(r+10),y+(r+10)), (0,255,0), 3)\n",
    "cv2.putText(output6, ('Gauge Reading: {}'.format(math.ceil(new_value))), (int(x-(r+14)),int(y-(r+14))), \n",
    "                cv2.FONT_HERSHEY_SIMPLEX, 0.6, (255,255,0), 1, cv2.LINE_AA ) \n",
    "cv2.circle(output6, (x,y), 2, (0,255,0), 3)\n",
    "\n",
    "cv2.imshow('Gauge', output6)\n",
    "cv2.waitKey(0)\n",
    "cv2.destroyAllWindows()"
   ]
  },
  {
   "cell_type": "code",
   "execution_count": null,
   "metadata": {},
   "outputs": [],
   "source": [
    "cap = cv2.VideoCapture(0);\n",
    "#fourcc = cv2.VideoWriter_fourcc(*'XVID')\n",
    "#out= cv2.VideoWriter('output.avi', fourcc, 20, (640,480))\n",
    "\n",
    "while (True):\n",
    "    ret, frame= cap.read()\n",
    "    if ret== True:\n",
    "        #grey= cv2.cvtColor(frame, cv2.COLOR_RGB2HLS)\n",
    "        img= frame\n",
    "        cv2.imshow('frame', img)\n",
    "        \n",
    "    \n",
    "        if cv2.waitKey(1) & 0xFF == ord('q'):\n",
    "            break\n",
    "    else:\n",
    "        break\n",
    "        \n",
    "cap.release()\n",
    "#out.release()\n",
    "cv2.destroyAllWindows()\n"
   ]
  },
  {
   "cell_type": "code",
   "execution_count": null,
   "metadata": {},
   "outputs": [],
   "source": []
  },
  {
   "cell_type": "code",
   "execution_count": null,
   "metadata": {},
   "outputs": [],
   "source": []
  },
  {
   "cell_type": "code",
   "execution_count": null,
   "metadata": {},
   "outputs": [],
   "source": []
  },
  {
   "cell_type": "code",
   "execution_count": null,
   "metadata": {},
   "outputs": [],
   "source": []
  },
  {
   "cell_type": "code",
   "execution_count": null,
   "metadata": {},
   "outputs": [],
   "source": []
  }
 ],
 "metadata": {
  "kernelspec": {
   "display_name": "Python 3",
   "language": "python",
   "name": "python3"
  },
  "language_info": {
   "codemirror_mode": {
    "name": "ipython",
    "version": 3
   },
   "file_extension": ".py",
   "mimetype": "text/x-python",
   "name": "python",
   "nbconvert_exporter": "python",
   "pygments_lexer": "ipython3",
   "version": "3.7.3"
  }
 },
 "nbformat": 4,
 "nbformat_minor": 2
}
